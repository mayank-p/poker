{
 "cells": [
  {
   "cell_type": "markdown",
   "metadata": {},
   "source": [
    "**Blackjack Simulator Gotten from https://github.com/engineer-man. This notebook is just used to test out different blackjack strategies and see which is the best one**"
   ]
  },
  {
   "cell_type": "code",
   "execution_count": 1,
   "metadata": {},
   "outputs": [],
   "source": [
    "import random\n",
    "import multiprocessing\n",
    "import math\n",
    "import time"
   ]
  },
  {
   "cell_type": "code",
   "execution_count": 2,
   "metadata": {},
   "outputs": [],
   "source": [
    "sims = 1000000\n",
    "num_decks = 4\n",
    "shuf_per = 75"
   ]
  },
  {
   "cell_type": "code",
   "execution_count": 4,
   "metadata": {},
   "outputs": [
    {
     "ename": "IndentationError",
     "evalue": "unindent does not match any outer indentation level (<tokenize>, line 49)",
     "output_type": "error",
     "traceback": [
      "\u001b[0;36m  File \u001b[0;32m\"<tokenize>\"\u001b[0;36m, line \u001b[0;32m49\u001b[0m\n\u001b[0;31m    dealer_cards.append(deck.pop(0))\u001b[0m\n\u001b[0m    ^\u001b[0m\n\u001b[0;31mIndentationError\u001b[0m\u001b[0;31m:\u001b[0m unindent does not match any outer indentation level\n"
     ]
    }
   ],
   "source": [
    "def simulate(queue, batch_size):\n",
    "    deck = []\n",
    "\n",
    "    def new_deck():\n",
    "    std_deck = [\n",
    "          # 2  3  4  5  6  7  8  9  10  J   Q   K   A\n",
    "            2, 3, 4, 5, 6, 7, 8, 9, 10, 10, 10, 10, 11,\n",
    "            2, 3, 4, 5, 6, 7, 8, 9, 10, 10, 10, 10, 11,\n",
    "            2, 3, 4, 5, 6, 7, 8, 9, 10, 10, 10, 10, 11,\n",
    "            2, 3, 4, 5, 6, 7, 8, 9, 10, 10, 10, 10, 11,\n",
    "            ]\n",
    "\n",
    "        # add more decks\n",
    "        std_deck = std_deck * num_decks\n",
    "\n",
    "        random.shuffle(std_deck)\n",
    "\n",
    "        return std_deck[:]\n",
    "\n",
    "    def play_hand():\n",
    "        dealer_cards = []\n",
    "        player_cards = []\n",
    "\n",
    "        # deal initial cards\n",
    "        player_cards.append(deck.pop(0))\n",
    "        dealer_cards.append(deck.pop(0))\n",
    "        player_cards.append(deck.pop(0))\n",
    "        dealer_cards.append(deck.pop(0))\n",
    "\n",
    "        # deal player to 12 or higher\n",
    "        while sum(player_cards) < 12:\n",
    "            player_cards.append(deck.pop(0))\n",
    "\n",
    "        # deal dealer on soft 17\n",
    "        while sum(dealer_cards) < 18:\n",
    "            exit = False\n",
    "            # check for soft 17\n",
    "            if sum(dealer_cards) == 17:\n",
    "                exit = True\n",
    "                # check for an ace and convert to 1 if found\n",
    "                for i, card in enumerate(dealer_cards):\n",
    "                    if card == 11:\n",
    "                        exit = False\n",
    "                        dealer_cards[i] = 1\n",
    "\n",
    "        if exit:\n",
    "                break\n",
    "\n",
    "            dealer_cards.append(deck.pop(0))\n",
    "\n",
    "        p_sum = sum(player_cards)\n",
    "        d_sum = sum(dealer_cards)\n",
    "\n",
    "        # dealer bust\n",
    "        if d_sum > 21:\n",
    "            return 1;\n",
    "        # dealer tie\n",
    "        if d_sum == p_sum:\n",
    "            return 0;\n",
    "        # dealer win\n",
    "        if d_sum > p_sum:\n",
    "            return -1;\n",
    "        # dealer lose\n",
    "        if d_sum < p_sum:\n",
    "            return 1\n",
    "\n",
    "    # starting deck\n",
    "    deck = new_deck()\n",
    "\n",
    "    # play hands\n",
    "    win = 0\n",
    "    draw = 0\n",
    "    lose = 0\n",
    "    for i in range(0, batch_size):\n",
    "        # reshuffle cards at shuffle_perc percentage\n",
    "        if (float(len(deck)) / (52 * num_decks)) * 100 < shuffle_perc:\n",
    "            deck = new_deck()\n",
    "\n",
    "        # play hand\n",
    "        result = play_hand()\n",
    "\n",
    "        # tally results\n",
    "        if result == 1:\n",
    "            win += 1\n",
    "        if result == 0:\n",
    "            draw += 1\n",
    "        if result == -1:\n",
    "            lose += 1\n",
    "\n",
    "    # add everything to the final results\n",
    "    queue.put([win, draw, lose])"
   ]
  },
  {
   "cell_type": "code",
   "execution_count": null,
   "metadata": {},
   "outputs": [],
   "source": []
  }
 ],
 "metadata": {
  "kernelspec": {
   "display_name": "Python [conda env:learn-env] *",
   "language": "python",
   "name": "conda-env-learn-env-py"
  },
  "language_info": {
   "codemirror_mode": {
    "name": "ipython",
    "version": 3
   },
   "file_extension": ".py",
   "mimetype": "text/x-python",
   "name": "python",
   "nbconvert_exporter": "python",
   "pygments_lexer": "ipython3",
   "version": "3.6.9"
  }
 },
 "nbformat": 4,
 "nbformat_minor": 2
}
